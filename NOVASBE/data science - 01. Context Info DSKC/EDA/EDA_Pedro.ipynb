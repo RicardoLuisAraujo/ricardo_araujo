{
 "cells": [
  {
   "cell_type": "code",
   "execution_count": 1,
   "metadata": {},
   "outputs": [],
   "source": [
    "import pandas as pd\n",
    "import numpy as np\n",
    "import requests\n",
    "from bs4 import BeautifulSoup\n",
    "import re\n",
    "from decimal import Decimal\n",
    "from re import sub\n",
    "import matplotlib.pyplot as plt\n",
    "\n",
    "df = pd.read_csv('EDA_TABELA_CSV.csv', encoding='utf-8')"
   ]
  },
  {
   "cell_type": "code",
   "execution_count": 2,
   "metadata": {
    "scrolled": true
   },
   "outputs": [
    {
     "data": {
      "text/html": [
       "<div>\n",
       "<style scoped>\n",
       "    .dataframe tbody tr th:only-of-type {\n",
       "        vertical-align: middle;\n",
       "    }\n",
       "\n",
       "    .dataframe tbody tr th {\n",
       "        vertical-align: top;\n",
       "    }\n",
       "\n",
       "    .dataframe thead th {\n",
       "        text-align: right;\n",
       "    }\n",
       "</style>\n",
       "<table border=\"1\" class=\"dataframe\">\n",
       "  <thead>\n",
       "    <tr style=\"text-align: right;\">\n",
       "      <th></th>\n",
       "      <th>title</th>\n",
       "      <th>article</th>\n",
       "      <th>alinea</th>\n",
       "      <th>revisto</th>\n",
       "      <th>validado</th>\n",
       "      <th>law_description</th>\n",
       "      <th>topico</th>\n",
       "      <th>referencia</th>\n",
       "      <th>referencia_incm</th>\n",
       "    </tr>\n",
       "  </thead>\n",
       "  <tbody>\n",
       "    <tr>\n",
       "      <th>0</th>\n",
       "      <td>MANUTENÇÃO DE ANTERIOR DIREITO</td>\n",
       "      <td>2</td>\n",
       "      <td>1</td>\n",
       "      <td>Helder Santos (na íntegra)</td>\n",
       "      <td>Bruno Vidal</td>\n",
       "      <td>O disposto no artigo 1.º não prejudica o direi...</td>\n",
       "      <td>[' Inscrição']</td>\n",
       "      <td>['1.']</td>\n",
       "      <td>NaN</td>\n",
       "    </tr>\n",
       "    <tr>\n",
       "      <th>1</th>\n",
       "      <td>MODO DE INSCRIÇÃO</td>\n",
       "      <td>3</td>\n",
       "      <td>1</td>\n",
       "      <td></td>\n",
       "      <td>Bruno Vidal</td>\n",
       "      <td>1. A inscrição efetua-se mediante boletim, em ...</td>\n",
       "      <td>[' Inscrição']</td>\n",
       "      <td>['']</td>\n",
       "      <td>PORTARIA N.º 165/95, DE 2 DE MARÇO (SEM ALTER...</td>\n",
       "    </tr>\n",
       "    <tr>\n",
       "      <th>2</th>\n",
       "      <td>MODO DE INSCRIÇÃO</td>\n",
       "      <td>3</td>\n",
       "      <td>2</td>\n",
       "      <td></td>\n",
       "      <td>Bruno Vidal</td>\n",
       "      <td>2. Se o subscritor passar a exercer funções em...</td>\n",
       "      <td>[' Inscrição']</td>\n",
       "      <td>[' ']</td>\n",
       "      <td>PORTARIA N.º 165/95, DE 2 DE MARÇO (SEM ALTER...</td>\n",
       "    </tr>\n",
       "    <tr>\n",
       "      <th>3</th>\n",
       "      <td>IDADE MÁXIMA E TOTALIZAÇÃO DE PERÍODOS CONTRI...</td>\n",
       "      <td>4</td>\n",
       "      <td>1</td>\n",
       "      <td></td>\n",
       "      <td>Bruno Vidal</td>\n",
       "      <td>1. A idade máxima para a inscrição na Caixa se...</td>\n",
       "      <td>[' Inscrição']</td>\n",
       "      <td>[' ']</td>\n",
       "      <td>O DECRETO-LEI N.º 6/2019 ALTEROU A REDAÇÃO D...</td>\n",
       "    </tr>\n",
       "    <tr>\n",
       "      <th>4</th>\n",
       "      <td>IDADE MÁXIMA E TOTALIZAÇÃO DE PERÍODOS CONTRI...</td>\n",
       "      <td>4</td>\n",
       "      <td>2</td>\n",
       "      <td></td>\n",
       "      <td>Bruno Vidal</td>\n",
       "      <td>2. Os períodos contributivos cumpridos no âmbi...</td>\n",
       "      <td>[' Inscrição']</td>\n",
       "      <td>[' ']</td>\n",
       "      <td>O DECRETO-LEI N.º 6/2019 ALTEROU A REDAÇÃO DO...</td>\n",
       "    </tr>\n",
       "    <tr>\n",
       "      <th>...</th>\n",
       "      <td>...</td>\n",
       "      <td>...</td>\n",
       "      <td>...</td>\n",
       "      <td>...</td>\n",
       "      <td>...</td>\n",
       "      <td>...</td>\n",
       "      <td>...</td>\n",
       "      <td>...</td>\n",
       "      <td>...</td>\n",
       "    </tr>\n",
       "    <tr>\n",
       "      <th>308</th>\n",
       "      <td>LEGISLAÇÃO REVOGADA</td>\n",
       "      <td>141</td>\n",
       "      <td>1</td>\n",
       "      <td></td>\n",
       "      <td>Bruno Vidal</td>\n",
       "      <td>de 1937; o Decreto-Lei n.º 30913, de 23 de nov...</td>\n",
       "      <td>['Legislação Revogada']</td>\n",
       "      <td>['']</td>\n",
       "      <td>1. Ficam revogados, a partir da data da entrad...</td>\n",
       "    </tr>\n",
       "    <tr>\n",
       "      <th>309</th>\n",
       "      <td>LEGISLAÇÃO REVOGADA</td>\n",
       "      <td>141</td>\n",
       "      <td>2</td>\n",
       "      <td></td>\n",
       "      <td>Bruno Vidal</td>\n",
       "      <td>2. Mantêm-se em vigor os preceitos especiais s...</td>\n",
       "      <td>['Preceitos Especiais', ' Disposições Especiai...</td>\n",
       "      <td>['']</td>\n",
       "      <td>NaN</td>\n",
       "    </tr>\n",
       "    <tr>\n",
       "      <th>310</th>\n",
       "      <td>MODIFICAÇÕES AO ESTATUTO</td>\n",
       "      <td>142</td>\n",
       "      <td>1</td>\n",
       "      <td></td>\n",
       "      <td>Bruno Vidal</td>\n",
       "      <td>1. As disposições que de futuro se publicarem ...</td>\n",
       "      <td>['Atualização', ' Consolidação']</td>\n",
       "      <td>['']</td>\n",
       "      <td>NaN</td>\n",
       "    </tr>\n",
       "    <tr>\n",
       "      <th>311</th>\n",
       "      <td>MODIFICAÇÕES AO ESTATUTO</td>\n",
       "      <td>142</td>\n",
       "      <td>2</td>\n",
       "      <td></td>\n",
       "      <td>Bruno Vidal</td>\n",
       "      <td>2. As taxas mencionadas no n.º 1 do artigo 93....</td>\n",
       "      <td>['Taxas']</td>\n",
       "      <td>['93.1', ' 95.2', ' 104.3', ' 107.2']</td>\n",
       "      <td>NaN</td>\n",
       "    </tr>\n",
       "    <tr>\n",
       "      <th>312</th>\n",
       "      <td>RESOLUÇÃO GENÉRICA DE DÚVIDAS</td>\n",
       "      <td>143</td>\n",
       "      <td>1</td>\n",
       "      <td></td>\n",
       "      <td>Bruno Vidal</td>\n",
       "      <td>Compete ao Ministro das Finanças, ouvida a adm...</td>\n",
       "      <td>['Esclarecimento de Dúvidas']</td>\n",
       "      <td>['']</td>\n",
       "      <td>NaN</td>\n",
       "    </tr>\n",
       "  </tbody>\n",
       "</table>\n",
       "<p>313 rows × 9 columns</p>\n",
       "</div>"
      ],
      "text/plain": [
       "                                                 title article  alinea  \\\n",
       "0                       MANUTENÇÃO DE ANTERIOR DIREITO       2       1   \n",
       "1                                    MODO DE INSCRIÇÃO       3       1   \n",
       "2                                    MODO DE INSCRIÇÃO       3       2   \n",
       "3     IDADE MÁXIMA E TOTALIZAÇÃO DE PERÍODOS CONTRI...       4       1   \n",
       "4     IDADE MÁXIMA E TOTALIZAÇÃO DE PERÍODOS CONTRI...       4       2   \n",
       "..                                                 ...     ...     ...   \n",
       "308                                LEGISLAÇÃO REVOGADA     141       1   \n",
       "309                                LEGISLAÇÃO REVOGADA     141       2   \n",
       "310                           MODIFICAÇÕES AO ESTATUTO     142       1   \n",
       "311                           MODIFICAÇÕES AO ESTATUTO     142       2   \n",
       "312                      RESOLUÇÃO GENÉRICA DE DÚVIDAS     143       1   \n",
       "\n",
       "                         revisto      validado  \\\n",
       "0     Helder Santos (na íntegra)   Bruno Vidal   \n",
       "1                                  Bruno Vidal   \n",
       "2                                  Bruno Vidal   \n",
       "3                                  Bruno Vidal   \n",
       "4                                  Bruno Vidal   \n",
       "..                           ...           ...   \n",
       "308                                Bruno Vidal   \n",
       "309                                Bruno Vidal   \n",
       "310                                Bruno Vidal   \n",
       "311                                Bruno Vidal   \n",
       "312                                Bruno Vidal   \n",
       "\n",
       "                                       law_description  \\\n",
       "0    O disposto no artigo 1.º não prejudica o direi...   \n",
       "1    1. A inscrição efetua-se mediante boletim, em ...   \n",
       "2    2. Se o subscritor passar a exercer funções em...   \n",
       "3    1. A idade máxima para a inscrição na Caixa se...   \n",
       "4    2. Os períodos contributivos cumpridos no âmbi...   \n",
       "..                                                 ...   \n",
       "308  de 1937; o Decreto-Lei n.º 30913, de 23 de nov...   \n",
       "309  2. Mantêm-se em vigor os preceitos especiais s...   \n",
       "310  1. As disposições que de futuro se publicarem ...   \n",
       "311  2. As taxas mencionadas no n.º 1 do artigo 93....   \n",
       "312  Compete ao Ministro das Finanças, ouvida a adm...   \n",
       "\n",
       "                                                topico  \\\n",
       "0                                       [' Inscrição']   \n",
       "1                                       [' Inscrição']   \n",
       "2                                       [' Inscrição']   \n",
       "3                                       [' Inscrição']   \n",
       "4                                       [' Inscrição']   \n",
       "..                                                 ...   \n",
       "308                            ['Legislação Revogada']   \n",
       "309  ['Preceitos Especiais', ' Disposições Especiai...   \n",
       "310                   ['Atualização', ' Consolidação']   \n",
       "311                                          ['Taxas']   \n",
       "312                      ['Esclarecimento de Dúvidas']   \n",
       "\n",
       "                                referencia  \\\n",
       "0                                   ['1.']   \n",
       "1                                     ['']   \n",
       "2                                    [' ']   \n",
       "3                                    [' ']   \n",
       "4                                    [' ']   \n",
       "..                                     ...   \n",
       "308                                   ['']   \n",
       "309                                   ['']   \n",
       "310                                   ['']   \n",
       "311  ['93.1', ' 95.2', ' 104.3', ' 107.2']   \n",
       "312                                   ['']   \n",
       "\n",
       "                                       referencia_incm  \n",
       "0                                                  NaN  \n",
       "1     PORTARIA N.º 165/95, DE 2 DE MARÇO (SEM ALTER...  \n",
       "2     PORTARIA N.º 165/95, DE 2 DE MARÇO (SEM ALTER...  \n",
       "3      O DECRETO-LEI N.º 6/2019 ALTEROU A REDAÇÃO D...  \n",
       "4     O DECRETO-LEI N.º 6/2019 ALTEROU A REDAÇÃO DO...  \n",
       "..                                                 ...  \n",
       "308  1. Ficam revogados, a partir da data da entrad...  \n",
       "309                                                NaN  \n",
       "310                                                NaN  \n",
       "311                                                NaN  \n",
       "312                                                NaN  \n",
       "\n",
       "[313 rows x 9 columns]"
      ]
     },
     "execution_count": 2,
     "metadata": {},
     "output_type": "execute_result"
    }
   ],
   "source": [
    "df"
   ]
  },
  {
   "cell_type": "code",
   "execution_count": 131,
   "metadata": {},
   "outputs": [
    {
     "name": "stdout",
     "output_type": "stream",
     "text": [
      "381 [' Inscrição', ' Inscrição', ' Inscrição', ' Inscrição', ' Inscrição', '', ' Inscrição', ' Inscrição', ' Quota', ' Acumulação de Cargos', 'Quota', ' Remuneração', '', '', ' Contribuição', '', ' Contribuição', [' Contribuição', ' Ensino Superior'], 'Ensino Superior', ['Contribuição', ' Quota', ' Remuneração'], '', '', '', [' Relação Contributiva', ' Quota', ' Contribuição'], ' Relação Contributiva', ' Relação Contributiva', [' Entrega/Pagamento de Valores', ' relação contributiva'], ' Entrega/Pagamento de Valores', '', ' Relação Contributiva', ' Relação Contributiva', ' Entrega/Pagamento de Valores', [' Serviço Militar', ' Quota', ' Remuneração'], [' Quota', ' Serviço Militar'], [' Quota', ' Serviço Militar'], ' Ultramarina', [' Dívida', ' Quota'], [' Dívida', ' Quota'], ' Dívida', [' Dívida', ' Serviço Militar'], ' Banca', ' Ultramarina', ' Dispensa do Pagamento', '', [' Dívida', ' Prestações'], ['Dívida', ' Prestações'], ' Prestações', '', '', '', ' Dívida', '', '', ' Quota', ' Encargo da Aposentação', ' Quota', ' Restituição', ' Restituição', ' Restituição', ' Prescrição', ' Restituição', ' Ultramarina', ' Cessação de Funções', ' Direito de Inscrição', ' Inscrição', 'Inscrição', ' Acidentes', [' Inscrição', ' Restituição'], [' Tempo de Serviço', ' Inscrição'], '', '', [' Tempo de Serviço', ' Ultramarina'], [' Serviço Militar', ' Tempo de Serviço'], '', '', ' Tempo de Serviço', [' Tempo de Serviço', ' Serviço Militar'], ' Tempo de Serviço', ' Tempo Parcial', ' Tempo Parcial', [' Tempo Parcial', ' Quota'], [' Tempo Parcial', ' Quota'], [' Tempo de Serviço', ' Quota'], [' Tempo de Serviço', ' Quota'], ' Tempo de Serviço', ' Tempo de Serviço', [' Tempo de Serviço', ' Tempo Parcial', ' Acumulação de Cargos'], [' Tempo de Serviço', ' Pré-reforma'], 'Contribuição', ' Tempo de Serviço', ' Cessação de Funções', ' Infração', ' Cessação de Funções', ' Amnistia', ' Anulação', ' Revogação da Resolução', ' Tempo de Serviço', '', '', ' Tempo de Serviço', [' Tempo de Serviço', ' Inscrição'], 'Tempo de Serviço', ' Tempo de Serviço', ' Direito de Aposentação', ' Direito de Aposentação', [' Aposentação Voluntária', ' Aposentação Obrigatória'], ' Direito de Aposentação', ' Direito de Aposentação', ['Direito de Aposentação', ' Exame Médico', ' Penas'], '', '', ['Tempo de Serviço', ' Aposentação Antecipada'], 'Cálculo de Pensão', ' Aposentação Antecipada', '', '', 'Sustentabilidade', 'Carreira Longa', 'Tempo de serviço', 'Cálculo de Pensão', ' Sustentabilidade', ' Carreira Longa', 'Carreira Longa', [' Direito de Aposentação', ' Cálculo de Pensão'], 'Tratamento mais favorável ', 'Tratamento mais favorável', ' Casos de Impedimento', 'Aposentação Voluntária', 'Aposentação Voluntária', 'Quota', ' Aposentação Voluntária', 'Aposentação Voluntária', ' Antecedência', 'Pedido', ' Aposentação Voluntária', 'Aposentação Voluntária', ' Pedido', ['Demissão', ' Direito de Aposentação'], ['Demissão', ' Direito de Aposentação', ' Incapacidade', ' Limite de Idade'], ['Direito de Aposentação', ' Infração ', ' Penas'], ['Aposentação obrigatória', ' Incapacidade'], [' Exame Médico', ' Situação Clínica'], 'Limite de idade', ['Aposentação Compulsiva', ' Infração '], ['Aposentação Compulsiva', ' Penas'], ['Aposentação Voluntária', ' Incapacidade.'], ['Carreira Longa', ' Reforma Antecipada', ' Aposentação Compulsiva'], ' Incapacidade', ' Situação Clínica', ' Regime', 'Regime', ' Remuneração', ' Relevância', 'Direito de Aposentação', 'Direito de Aposentação', ['Direito de Aposentação', ' Acumulação de Cargos'], 'Direito de Aposentação', ' Regime', 'Direito à Pensão', ['Cálculo de Pensão', ' Remuneração'], 'Remuneração', ['Remuneração', ' Tempo Parcial'], ['Remuneração', ' Emolumentos.'], 'Remuneração', ['Remuneração', ' Ultramarina', ' Acumulação de Cargos'], ['Serviço Militar', ' Remuneração'], ['Acumulação de Cargos', ' Tempo de Serviço'], 'Sucessão de Cargos', ['Remuneração', ' Cálculo de Pensão', ' Tempo de Serviço'], [' Remuneração', ' Cálculo de Pensão'], ['Remuneração', ' Cálculo de Pensão'], ['Remuneração', ' Cálculo de Pensão'], 'Organismos Extintos', 'Ultramarina', 'Cálculo de Pensão', 'Valor máximo da pensão', 'Cálculo de Pensão', 'Cálculo de pensão', ['Cálculo de Pensão', ' Aposentação Compulsiva'], ['Cálculo de Pensão', ' Dívida'], 'Cálculo de Pensão', 'Cálculo de Pensão', 'Alteração da Pensão', ' Cálculo de pensão', ' Alteração da Pensão', ' Alteração da Pensão', ' Atualização de Pensão', 'Encargo da Aposentação', ' Autarquias Locais', ['Encargo da Aposentação', ' Ultramarina', ' Tempo de serviço', ' Autarquias Locais'], ['Encargo da Aposentação', ' Ultramarina', ' Tempo de serviço', ' Autarquias Locais'], 'Encargo da Aposentação', ['Quota', ' Indemnizações'], ['Ultramarina', ' Encargo da Aposentação', ' Quotas', ' Tempo de serviço.'], ['Encargos da Aposentação', ' Pensão Unificada'], 'Pagamento da Pensão', 'Pagamento da Pensão', ['Pagamento da Pensão', ' Impossibilidade de receber a pensão'], ['Pagamento da Pensão', ' Exame médico', ' Situação Clínica'], 'Impossibilidade de receber a pensão', 'Pagamento da Pensão', ['Pagamento da Pensão', ' Cálculo da Pensão'], ['Pagamento da Pensão', ' Óbito'], ['Pagamento da Pensão', ' Prova de Vida'], ['Pagamento da Pensão', ' Partilha de informação/Dados'], ['Cálculo de Pensão', ' Suplementos Legais'], ['Pagamento da Pensão', ' Óbito', ' Herdeiros'], ' Acumulação de Pensões', 'Prescrição', 'Prescrição', 'Prescrição', ['Arquivo', ' Herdeiro'], 'Arquivo', 'Penhora', 'Penhora', ['Suspensão da Pensão', ' Condenação Disciplinar', ' Condenação Penal.'], 'Direito à Pensão', ['Óbito do aposentado', ' Estorno'], [' Óbito do aposentado', ' Estorno.'], 'Direito à Aposentação', 'Direito à Aposentação', 'Direitos do Aposentado', 'Direitos do Aposentado', ['Suspensão da Pensão', ' Penas'], ' Sustação.', ['Suspensão da Pensão', ' Penas Disciplinares'], ' Perda da Pensão.', ['Suspensão da Pensão', ' Penas Disciplinares.'], 'Penas', 'Penas Criminais', 'Suspensão da Pensão', ' Penas Criminais', 'Incompatibilidades', ' Autorização do Exercício de Funções', 'Incompatibilidades', 'Incompatibilidades', 'Incompatibilidades', '', ' Incompatibilidades', ['Remuneração', ' Direito à Pensão', ' Cumulação de pensão'], [' Remuneração', ' Direito à Pensão', ' Cumulação de pensão'], [' Remuneração', ' Direito à Pensão', ' Cumulação de pensões'], ['Pagamento da Pensão', ' Remuneração', ' Suspensão da Pensão'], ['Remuneração', ' cumulação de pensão'], ['Cumulação de Pensão', ' Remuneração'], ['Direito à Pensão', ' Cumulação de Pensão', ' Remuneração'], ['Ultramarina', ' Tempo de Serviço', ' Acumulação da Pensão'], ['Tempo de Serviço', ' Cálculo de Pensão'], 'Cessação de Funções', 'Cálculo da Pensão', 'Contagem de tempo', ['Extinção da Pensão', ' Prescrição', ' Óbito', ' Renúncia', ' Perda da nacionalidade'], 'Extinção da Pensão', ' Renúncia', 'Exoneração', ['Óbito', ' Extinção da Pensão'], ['Óbito', ' Prestações'], ' Sistema Previdencial', 'Processo de Aposentação', 'Processo de Aposentação', 'Processo de Aposentação', 'Processo de Aposentação', 'Processo de Aposentação', ['Processo de Aposentação', ' Aposentação Obrigatória', ' Tempo de Serviço'], '', 'Prova do Tempo de Serviço', 'Prova do Tempo de Serviço', ' Documento Autêntico', 'Prova do Tempo de Serviço', 'Prova do Tempo de Serviço', 'Exame Médico', 'Exame Médico', ' Situação Clínica', ' Exame Médico', ' Junta Médica', ' Exame Médico', ' Junta Médica', ' Exame Médico', ' Situação Clínica', ' Exame Médico', ' Informação Clínica', ' Exame Médico', ' Conselho Médico', ' Exame Médico', ' Junta de Recurso', ' Exame Médico', ' Exame Médico', ' Exame Médico', ' Situação Clínica', ' Exame Médico', ['Direito à Pensão', ' Processo de Aposentação'], ' Resolução', ['Cálculo da Pensão', ' Processo de Aposentação'], 'Sustação', 'Desligado do Serviço', 'Processo de Aposentação', ['Processo de Aposentação', ' Direito à Pensão'], 'Divulgação da Aposentação', 'Divulgação da Aposentação', ' Divulgação da Aposentação', 'Revisão da Resolução', '', ['Revogação da Resolução', ' Retificação da Resolução'], ' Recurso Contencioso', ' Encarregados pela Resolução', ' Competência', 'Encarregados pela Resolução', ' Competência', ' Encarregados pela Resolução', ' Competência', '', ' Encarregados pela Resolução', ' Competência', ' Encarregados pela Resolução', ' Competência', ' Encarregados pela Resolução', ' Competência', ' Avocação', ' Encarregados pela Resolução', ' Competência', ' Avocação', ' Encarregados pela Resolução', ' Competência', 'Divulgação da Aposentação', ' Notificação', '', '', 'Processo de Aposentação', ' Recurso Contencioso', 'Processo de Aposentação', 'Impugnação', ' Cálculo da Pensão', ' Tempo de Serviço', ' Previdência Social', ['Serviço Militar', ' Reforma dos Militares'], 'Polícia de Segurança Pública', 'Reforma dos Militares', 'Serviço Militar', ' Serviço Militar', ['Quota', ' Pensão de Reserva'], ['Tempo de Serviço', ' Serviço Militar', ' Reforma dos Militares'], ['Serviço Militar', ' Quota'], ['Tempo de Serviço', ' Serviço Militar', ' Pensão de Reserva', ' Quota', ' Reforma dos Militares'], ['Pensão de Reserva', ' Quota', ' Remuneração', ' Pensão de Reserva'], ['Reforma dos Militares', ' Pensão de Reserva', ' Remuneração'], ['Reforma dos Militares', ' Pensão de Reserva'], ' Pensão de Reforma', 'Reserva', ' Reforma', ['Pensão de Reforma', ' Reforma dos Militares'], 'Cálculo da Pensão', 'Cálculo da Pensão', ['Serviço Militar', ' Cálculo de Pensão'], ['Serviço Militar', ' Reforma dos Militares', ' Acumulação de Cargos'], 'Alteração da Pensão', 'Serviço Militar', 'Vigência.', 'Vigência', ' Prazos', 'Validade das Resoluções', ' Quota', ' Inscrição', 'validade das Resoluções', ' Inscrição', ' Validade da quota anterior', 'Serviço Militar', ' Quota', 'Reforma dos Militares', [' Cálculo da Pensão', ' Reforma dos Militares'], ' Abonos', ' Contribuição do Estado', 'Dívida', 'Legislação Revogada', 'Preceitos Especiais', ' Disposições Especiais', ' Normas Especiais', ' Regimes Especiais', 'Atualização', ' Consolidação', 'Taxas', 'Esclarecimento de Dúvidas']\n"
     ]
    }
   ],
   "source": [
    "nova_lista = df['topico'].apply(eval).tolist()\n",
    "\n",
    "lista_topicos = []\n",
    "\n",
    "for sublist in nova_lista:\n",
    "    for element in sublist:\n",
    "        if ',' in element:\n",
    "            lista_topicos.append(element.split(','))\n",
    "        else:\n",
    "            lista_topicos.append(element)\n",
    "            \n",
    "print(len(lista_topicos), lista_topicos)"
   ]
  },
  {
   "cell_type": "code",
   "execution_count": 132,
   "metadata": {},
   "outputs": [
    {
     "name": "stdout",
     "output_type": "stream",
     "text": [
      "381 [1, 1, 1, 1, 1, 0, 1, 1, 1, 1, 1, 1, 0, 0, 1, 0, 1, 1, 1, 1, 0, 0, 0, 1, 1, 1, 1, 1, 0, 1, 1, 1, 1, 1, 1, 1, 1, 1, 1, 1, 1, 1, 1, 0, 1, 1, 1, 0, 0, 0, 1, 0, 0, 2, 2, 1, 1, 1, 2, 2, 1, 1, 2, 2, 1, 2, 2, 1, 1, 0, 0, 1, 1, 0, 0, 1, 1, 1, 1, 1, 1, 1, 1, 1, 1, 1, 1, 1, 1, 1, 2, 2, 4, 4, 4, 4, 1, 0, 0, 1, 1, 1, 1, 1, 1, 1, 1, 1, 1, 0, 0, 1, 2, 2, 0, 0, 1, 1, 1, 3, 3, 3, 1, 1, 1, 2, 2, 1, 1, 2, 2, 2, 2, 2, 2, 2, 2, 1, 1, 1, 2, 2, 1, 1, 1, 1, 3, 3, 3, 1, 3, 3, 3, 1, 1, 1, 2, 2, 1, 1, 1, 1, 1, 1, 1, 1, 1, 1, 1, 1, 1, 1, 1, 1, 1, 1, 1, 1, 1, 1, 1, 1, 2, 2, 1, 2, 2, 2, 2, 1, 1, 1, 1, 1, 1, 1, 1, 1, 1, 1, 1, 1, 1, 1, 1, 1, 1, 1, 1, 1, 1, 1, 1, 1, 1, 1, 1, 1, 1, 1, 1, 1, 1, 2, 2, 2, 2, 1, 1, 1, 2, 2, 2, 2, 1, 1, 1, 0, 1, 1, 1, 1, 1, 1, 1, 1, 1, 1, 1, 1, 1, 1, 2, 2, 1, 1, 2, 2, 1, 1, 1, 1, 1, 1, 0, 1, 2, 2, 1, 1, 1, 2, 2, 2, 2, 2, 2, 2, 2, 2, 2, 2, 2, 2, 2, 1, 1, 2, 2, 1, 2, 2, 1, 1, 1, 1, 1, 1, 1, 1, 1, 0, 1, 1, 2, 2, 2, 2, 3, 3, 0, 2, 2, 2, 2, 3, 3, 3, 3, 3, 3, 2, 2, 2, 2, 0, 0, 2, 2, 1, 4, 4, 4, 4, 1, 1, 1, 1, 1, 1, 1, 1, 1, 1, 1, 2, 2, 2, 2, 1, 1, 1, 1, 1, 1, 1, 1, 2, 2, 3, 3, 3, 2, 2, 1, 2, 2, 1, 1, 1, 1, 1, 1, 4, 4, 4, 4, 2, 2, 1, 1]\n"
     ]
    }
   ],
   "source": [
    "# Histograma\n",
    "\n",
    "lista_len_topicos = []\n",
    "\n",
    "for i in range(0, x.shape[0]):\n",
    "    for s in range(0, len(x[i])):\n",
    "        if x[i][s] == '':\n",
    "            lista_len_topicos.append(0)\n",
    "        else:\n",
    "            lista_len_topicos.append(len(x[i]))\n",
    "    \n",
    "print(len(lista_len_topicos), lista_len_topicos)"
   ]
  },
  {
   "cell_type": "code",
   "execution_count": 133,
   "metadata": {},
   "outputs": [
    {
     "name": "stdout",
     "output_type": "stream",
     "text": [
      "12\n"
     ]
    }
   ],
   "source": [
    "y=0\n",
    "for i in lista_len_topicos:\n",
    "    if i == 4:\n",
    "        y += 1\n",
    "print(y)     \n",
    "    "
   ]
  },
  {
   "cell_type": "code",
   "execution_count": 134,
   "metadata": {},
   "outputs": [
    {
     "name": "stdout",
     "output_type": "stream",
     "text": [
      "30 ['', '', '', '', '', '', '', '', '', '', '', '', '', '', '', '', '', '', '', '', '', '', '', '', '', '', '', '', '', '']\n"
     ]
    }
   ],
   "source": [
    "# Artigos sem tópico\n",
    "\n",
    "a = []\n",
    "for i in lista_topicos:\n",
    "    if i == '':\n",
    "        a.append(i)\n",
    "sem_artigo = len(a)    \n",
    "\n",
    "print(sem_artigo, a)"
   ]
  },
  {
   "cell_type": "code",
   "execution_count": 135,
   "metadata": {},
   "outputs": [
    {
     "name": "stdout",
     "output_type": "stream",
     "text": [
      "Máximo de tópicos por artigo: 4 \n",
      "Mínimo de tópicos por artigo: 0 \n",
      "Média de tópicos por artigo: 1.36 \n",
      "Número de artigos sem tópico: 30\n"
     ]
    }
   ],
   "source": [
    "# número de artigos sem tópico\n",
    "\n",
    "import numpy as np\n",
    "\n",
    "print('Máximo de tópicos por artigo: {0}'. format(max(lista_len_topicos)),\n",
    "     '\\nMínimo de tópicos por artigo: {0}'. format(min(lista_len_topicos)),\n",
    "     '\\nMédia de tópicos por artigo: {0}'. format(round(np.mean(lista_len_topicos),2)),\n",
    "     '\\nNúmero de artigos sem tópico: {0}'. format(sem_artigo))"
   ]
  },
  {
   "cell_type": "code",
   "execution_count": 136,
   "metadata": {},
   "outputs": [
    {
     "name": "stdout",
     "output_type": "stream",
     "text": [
      "231 [' Inscrição', '', ' Quota', ' Acumulação de Cargos', 'Quota', ' Remuneração', ' Contribuição', [' Contribuição', ' Ensino Superior'], 'Ensino Superior', ['Contribuição', ' Quota', ' Remuneração'], [' Relação Contributiva', ' Quota', ' Contribuição'], ' Relação Contributiva', [' Entrega/Pagamento de Valores', ' relação contributiva'], ' Entrega/Pagamento de Valores', [' Serviço Militar', ' Quota', ' Remuneração'], [' Quota', ' Serviço Militar'], ' Ultramarina', [' Dívida', ' Quota'], ' Dívida', [' Dívida', ' Serviço Militar'], ' Banca', ' Dispensa do Pagamento', [' Dívida', ' Prestações'], ['Dívida', ' Prestações'], ' Prestações', ' Encargo da Aposentação', ' Restituição', ' Prescrição', ' Cessação de Funções', ' Direito de Inscrição', 'Inscrição', ' Acidentes', [' Inscrição', ' Restituição'], [' Tempo de Serviço', ' Inscrição'], [' Tempo de Serviço', ' Ultramarina'], [' Serviço Militar', ' Tempo de Serviço'], ' Tempo de Serviço', [' Tempo de Serviço', ' Serviço Militar'], ' Tempo Parcial', [' Tempo Parcial', ' Quota'], [' Tempo de Serviço', ' Quota'], [' Tempo de Serviço', ' Tempo Parcial', ' Acumulação de Cargos'], [' Tempo de Serviço', ' Pré-reforma'], 'Contribuição', ' Infração', ' Amnistia', ' Anulação', ' Revogação da Resolução', 'Tempo de Serviço', ' Direito de Aposentação', [' Aposentação Voluntária', ' Aposentação Obrigatória'], ['Direito de Aposentação', ' Exame Médico', ' Penas'], ['Tempo de Serviço', ' Aposentação Antecipada'], 'Cálculo de Pensão', ' Aposentação Antecipada', 'Sustentabilidade', 'Carreira Longa', 'Tempo de serviço', ' Sustentabilidade', ' Carreira Longa', [' Direito de Aposentação', ' Cálculo de Pensão'], 'Tratamento mais favorável ', 'Tratamento mais favorável', ' Casos de Impedimento', 'Aposentação Voluntária', ' Aposentação Voluntária', ' Antecedência', 'Pedido', ' Pedido', ['Demissão', ' Direito de Aposentação'], ['Demissão', ' Direito de Aposentação', ' Incapacidade', ' Limite de Idade'], ['Direito de Aposentação', ' Infração ', ' Penas'], ['Aposentação obrigatória', ' Incapacidade'], [' Exame Médico', ' Situação Clínica'], 'Limite de idade', ['Aposentação Compulsiva', ' Infração '], ['Aposentação Compulsiva', ' Penas'], ['Aposentação Voluntária', ' Incapacidade.'], ['Carreira Longa', ' Reforma Antecipada', ' Aposentação Compulsiva'], ' Incapacidade', ' Situação Clínica', ' Regime', 'Regime', ' Relevância', 'Direito de Aposentação', ['Direito de Aposentação', ' Acumulação de Cargos'], 'Direito à Pensão', ['Cálculo de Pensão', ' Remuneração'], 'Remuneração', ['Remuneração', ' Tempo Parcial'], ['Remuneração', ' Emolumentos.'], ['Remuneração', ' Ultramarina', ' Acumulação de Cargos'], ['Serviço Militar', ' Remuneração'], ['Acumulação de Cargos', ' Tempo de Serviço'], 'Sucessão de Cargos', ['Remuneração', ' Cálculo de Pensão', ' Tempo de Serviço'], [' Remuneração', ' Cálculo de Pensão'], ['Remuneração', ' Cálculo de Pensão'], 'Organismos Extintos', 'Ultramarina', 'Valor máximo da pensão', 'Cálculo de pensão', ['Cálculo de Pensão', ' Aposentação Compulsiva'], ['Cálculo de Pensão', ' Dívida'], 'Alteração da Pensão', ' Cálculo de pensão', ' Alteração da Pensão', ' Atualização de Pensão', 'Encargo da Aposentação', ' Autarquias Locais', ['Encargo da Aposentação', ' Ultramarina', ' Tempo de serviço', ' Autarquias Locais'], ['Quota', ' Indemnizações'], ['Ultramarina', ' Encargo da Aposentação', ' Quotas', ' Tempo de serviço.'], ['Encargos da Aposentação', ' Pensão Unificada'], 'Pagamento da Pensão', ['Pagamento da Pensão', ' Impossibilidade de receber a pensão'], ['Pagamento da Pensão', ' Exame médico', ' Situação Clínica'], 'Impossibilidade de receber a pensão', ['Pagamento da Pensão', ' Cálculo da Pensão'], ['Pagamento da Pensão', ' Óbito'], ['Pagamento da Pensão', ' Prova de Vida'], ['Pagamento da Pensão', ' Partilha de informação/Dados'], ['Cálculo de Pensão', ' Suplementos Legais'], ['Pagamento da Pensão', ' Óbito', ' Herdeiros'], ' Acumulação de Pensões', 'Prescrição', ['Arquivo', ' Herdeiro'], 'Arquivo', 'Penhora', ['Suspensão da Pensão', ' Condenação Disciplinar', ' Condenação Penal.'], ['Óbito do aposentado', ' Estorno'], [' Óbito do aposentado', ' Estorno.'], 'Direito à Aposentação', 'Direitos do Aposentado', ['Suspensão da Pensão', ' Penas'], ' Sustação.', ['Suspensão da Pensão', ' Penas Disciplinares'], ' Perda da Pensão.', ['Suspensão da Pensão', ' Penas Disciplinares.'], 'Penas', 'Penas Criminais', 'Suspensão da Pensão', ' Penas Criminais', 'Incompatibilidades', ' Autorização do Exercício de Funções', ' Incompatibilidades', ['Remuneração', ' Direito à Pensão', ' Cumulação de pensão'], [' Remuneração', ' Direito à Pensão', ' Cumulação de pensão'], [' Remuneração', ' Direito à Pensão', ' Cumulação de pensões'], ['Pagamento da Pensão', ' Remuneração', ' Suspensão da Pensão'], ['Remuneração', ' cumulação de pensão'], ['Cumulação de Pensão', ' Remuneração'], ['Direito à Pensão', ' Cumulação de Pensão', ' Remuneração'], ['Ultramarina', ' Tempo de Serviço', ' Acumulação da Pensão'], ['Tempo de Serviço', ' Cálculo de Pensão'], 'Cessação de Funções', 'Cálculo da Pensão', 'Contagem de tempo', ['Extinção da Pensão', ' Prescrição', ' Óbito', ' Renúncia', ' Perda da nacionalidade'], 'Extinção da Pensão', ' Renúncia', 'Exoneração', ['Óbito', ' Extinção da Pensão'], ['Óbito', ' Prestações'], ' Sistema Previdencial', 'Processo de Aposentação', ['Processo de Aposentação', ' Aposentação Obrigatória', ' Tempo de Serviço'], 'Prova do Tempo de Serviço', ' Documento Autêntico', 'Exame Médico', ' Exame Médico', ' Junta Médica', ' Informação Clínica', ' Conselho Médico', ' Junta de Recurso', ['Direito à Pensão', ' Processo de Aposentação'], ' Resolução', ['Cálculo da Pensão', ' Processo de Aposentação'], 'Sustação', 'Desligado do Serviço', ['Processo de Aposentação', ' Direito à Pensão'], 'Divulgação da Aposentação', ' Divulgação da Aposentação', 'Revisão da Resolução', ['Revogação da Resolução', ' Retificação da Resolução'], ' Recurso Contencioso', ' Encarregados pela Resolução', ' Competência', 'Encarregados pela Resolução', ' Avocação', ' Notificação', 'Impugnação', ' Cálculo da Pensão', ' Previdência Social', ['Serviço Militar', ' Reforma dos Militares'], 'Polícia de Segurança Pública', 'Reforma dos Militares', 'Serviço Militar', ' Serviço Militar', ['Quota', ' Pensão de Reserva'], ['Tempo de Serviço', ' Serviço Militar', ' Reforma dos Militares'], ['Serviço Militar', ' Quota'], ['Tempo de Serviço', ' Serviço Militar', ' Pensão de Reserva', ' Quota', ' Reforma dos Militares'], ['Pensão de Reserva', ' Quota', ' Remuneração', ' Pensão de Reserva'], ['Reforma dos Militares', ' Pensão de Reserva', ' Remuneração'], ['Reforma dos Militares', ' Pensão de Reserva'], ' Pensão de Reforma', 'Reserva', ' Reforma', ['Pensão de Reforma', ' Reforma dos Militares'], ['Serviço Militar', ' Cálculo de Pensão'], ['Serviço Militar', ' Reforma dos Militares', ' Acumulação de Cargos'], 'Vigência.', 'Vigência', ' Prazos', 'Validade das Resoluções', 'validade das Resoluções', ' Validade da quota anterior', [' Cálculo da Pensão', ' Reforma dos Militares'], ' Abonos', ' Contribuição do Estado', 'Dívida', 'Legislação Revogada', 'Preceitos Especiais', ' Disposições Especiais', ' Normas Especiais', ' Regimes Especiais', 'Atualização', ' Consolidação', 'Taxas', 'Esclarecimento de Dúvidas']\n"
     ]
    }
   ],
   "source": [
    "# número & média de artigos por tópico\n",
    "\n",
    "lista_topicos_unicos = []\n",
    "\n",
    "for i in lista_topicos:\n",
    "    if i not in lista_topicos_unicos:\n",
    "        lista_topicos_unicos.append(i)\n",
    "        \n",
    "print(len(lista_topicos_unicos), lista_topicos_unicos)\n"
   ]
  },
  {
   "cell_type": "code",
   "execution_count": 115,
   "metadata": {},
   "outputs": [
    {
     "name": "stdout",
     "output_type": "stream",
     "text": [
      "359 ['Inscrição', '', 'Quota', 'Acumulação de Cargos', 'Quota', 'Remuneração', 'Contribuição', 'Contribuição', 'Ensino Superior', 'Ensino Superior', 'Contribuição', 'Quota', 'Remuneração', 'Relação Contributiva', 'Quota', 'Contribuição', 'Relação Contributiva', 'Entrega/Pagamento de Valores', 'relação contributiva', 'Entrega/Pagamento de Valores', 'Serviço Militar', 'Quota', 'Remuneração', 'Quota', 'Serviço Militar', 'Ultramarina', 'Dívida', 'Quota', 'Dívida', 'Dívida', 'Serviço Militar', 'Banca', 'Dispensa do Pagamento', 'Dívida', 'Prestações', 'Dívida', 'Prestações', 'Prestações', 'Encargo da Aposentação', 'Restituição', 'Prescrição', 'Cessação de Funções', 'Direito de Inscrição', 'Inscrição', 'Acidentes', 'Inscrição', 'Restituição', 'Tempo de Serviço', 'Inscrição', 'Tempo de Serviço', 'Ultramarina', 'Serviço Militar', 'Tempo de Serviço', 'Tempo de Serviço', 'Tempo de Serviço', 'Serviço Militar', 'Tempo Parcial', 'Tempo Parcial', 'Quota', 'Tempo de Serviço', 'Quota', 'Tempo de Serviço', 'Tempo Parcial', 'Acumulação de Cargos', 'Tempo de Serviço', 'Pré-reforma', 'Contribuição', 'Infração', 'Amnistia', 'Anulação', 'Revogação da Resolução', 'Tempo de Serviço', 'Direito de Aposentação', 'Aposentação Voluntária', 'Aposentação Obrigatória', 'Direito de Aposentação', 'Exame Médico', 'Penas', 'Tempo de Serviço', 'Aposentação Antecipada', 'Cálculo de Pensão', 'Aposentação Antecipada', 'Sustentabilidade', 'Carreira Longa', 'Tempo de serviço', 'Sustentabilidade', 'Carreira Longa', 'Direito de Aposentação', 'Cálculo de Pensão', 'Tratamento mais favorável ', 'Tratamento mais favorável', 'Casos de Impedimento', 'Aposentação Voluntária', 'Aposentação Voluntária', 'Antecedência', 'Pedido', 'Pedido', 'Demissão', 'Direito de Aposentação', 'Demissão', 'Direito de Aposentação', 'Incapacidade', 'Limite de Idade', 'Direito de Aposentação', 'Infração ', 'Penas', 'Aposentação obrigatória', 'Incapacidade', 'Exame Médico', 'Situação Clínica', 'Limite de idade', 'Aposentação Compulsiva', 'Infração ', 'Aposentação Compulsiva', 'Penas', 'Aposentação Voluntária', 'Incapacidade.', 'Carreira Longa', 'Reforma Antecipada', 'Aposentação Compulsiva', 'Incapacidade', 'Situação Clínica', 'Regime', 'Regime', 'Relevância', 'Direito de Aposentação', 'Direito de Aposentação', 'Acumulação de Cargos', 'Direito à Pensão', 'Cálculo de Pensão', 'Remuneração', 'Remuneração', 'Remuneração', 'Tempo Parcial', 'Remuneração', 'Emolumentos.', 'Remuneração', 'Ultramarina', 'Acumulação de Cargos', 'Serviço Militar', 'Remuneração', 'Acumulação de Cargos', 'Tempo de Serviço', 'Sucessão de Cargos', 'Remuneração', 'Cálculo de Pensão', 'Tempo de Serviço', 'Remuneração', 'Cálculo de Pensão', 'Remuneração', 'Cálculo de Pensão', 'Organismos Extintos', 'Ultramarina', 'Valor máximo da pensão', 'Cálculo de pensão', 'Cálculo de Pensão', 'Aposentação Compulsiva', 'Cálculo de Pensão', 'Dívida', 'Alteração da Pensão', 'Cálculo de pensão', 'Alteração da Pensão', 'Atualização de Pensão', 'Encargo da Aposentação', 'Autarquias Locais', 'Encargo da Aposentação', 'Ultramarina', 'Tempo de serviço', 'Autarquias Locais', 'Quota', 'Indemnizações', 'Ultramarina', 'Encargo da Aposentação', 'Quotas', 'Tempo de serviço.', 'Encargos da Aposentação', 'Pensão Unificada', 'Pagamento da Pensão', 'Pagamento da Pensão', 'Impossibilidade de receber a pensão', 'Pagamento da Pensão', 'Exame médico', 'Situação Clínica', 'Impossibilidade de receber a pensão', 'Pagamento da Pensão', 'Cálculo da Pensão', 'Pagamento da Pensão', 'Óbito', 'Pagamento da Pensão', 'Prova de Vida', 'Pagamento da Pensão', 'Partilha de informação/Dados', 'Cálculo de Pensão', 'Suplementos Legais', 'Pagamento da Pensão', 'Óbito', 'Herdeiros', 'Acumulação de Pensões', 'Prescrição', 'Arquivo', 'Herdeiro', 'Arquivo', 'Penhora', 'Suspensão da Pensão', 'Condenação Disciplinar', 'Condenação Penal.', 'Óbito do aposentado', 'Estorno', 'Óbito do aposentado', 'Estorno.', 'Direito à Aposentação', 'Direitos do Aposentado', 'Suspensão da Pensão', 'Penas', 'Sustação.', 'Suspensão da Pensão', 'Penas Disciplinares', 'Perda da Pensão.', 'Suspensão da Pensão', 'Penas Disciplinares.', 'Penas', 'Penas Criminais', 'Suspensão da Pensão', 'Penas Criminais', 'Incompatibilidades', 'Autorização do Exercício de Funções', 'Incompatibilidades', 'Remuneração', 'Direito à Pensão', 'Cumulação de pensão', 'Remuneração', 'Direito à Pensão', 'Cumulação de pensão', 'Remuneração', 'Direito à Pensão', 'Cumulação de pensões', 'Pagamento da Pensão', 'Remuneração', 'Suspensão da Pensão', 'Remuneração', 'cumulação de pensão', 'Cumulação de Pensão', 'Remuneração', 'Direito à Pensão', 'Cumulação de Pensão', 'Remuneração', 'Ultramarina', 'Tempo de Serviço', 'Acumulação da Pensão', 'Tempo de Serviço', 'Cálculo de Pensão', 'Cessação de Funções', 'Cálculo da Pensão', 'Contagem de tempo', 'Extinção da Pensão', 'Prescrição', 'Óbito', 'Renúncia', 'Perda da nacionalidade', 'Extinção da Pensão', 'Renúncia', 'Exoneração', 'Óbito', 'Extinção da Pensão', 'Óbito', 'Prestações', 'Sistema Previdencial', 'Processo de Aposentação', 'Processo de Aposentação', 'Aposentação Obrigatória', 'Tempo de Serviço', 'Prova do Tempo de Serviço', 'Documento Autêntico', 'Exame Médico', 'Exame Médico', 'Junta Médica', 'Informação Clínica', 'Conselho Médico', 'Junta de Recurso', 'Direito à Pensão', 'Processo de Aposentação', 'Resolução', 'Cálculo da Pensão', 'Processo de Aposentação', 'Sustação', 'Desligado do Serviço', 'Processo de Aposentação', 'Direito à Pensão', 'Divulgação da Aposentação', 'Divulgação da Aposentação', 'Revisão da Resolução', 'Revogação da Resolução', 'Retificação da Resolução', 'Recurso Contencioso', 'Encarregados pela Resolução', 'Competência', 'Encarregados pela Resolução', 'Avocação', 'Notificação', 'Impugnação', 'Cálculo da Pensão', 'Previdência Social', 'Serviço Militar', 'Reforma dos Militares', 'Polícia de Segurança Pública', 'Reforma dos Militares', 'Serviço Militar', 'Serviço Militar', 'Quota', 'Pensão de Reserva', 'Tempo de Serviço', 'Serviço Militar', 'Reforma dos Militares', 'Serviço Militar', 'Quota', 'Tempo de Serviço', 'Serviço Militar', 'Pensão de Reserva', 'Quota', 'Reforma dos Militares', 'Pensão de Reserva', 'Quota', 'Remuneração', 'Pensão de Reserva', 'Reforma dos Militares', 'Pensão de Reserva', 'Remuneração', 'Reforma dos Militares', 'Pensão de Reserva', 'Pensão de Reforma', 'Reserva', 'Reforma', 'Pensão de Reforma', 'Reforma dos Militares', 'Serviço Militar', 'Cálculo de Pensão', 'Serviço Militar', 'Reforma dos Militares', 'Acumulação de Cargos', 'Vigência.', 'Vigência', 'Prazos', 'Validade das Resoluções', 'validade das Resoluções', 'Validade da quota anterior', 'Cálculo da Pensão', 'Reforma dos Militares', 'Abonos', 'Contribuição do Estado', 'Dívida', 'Legislação Revogada', 'Preceitos Especiais', 'Disposições Especiais', 'Normas Especiais', 'Regimes Especiais', 'Atualização', 'Consolidação', 'Taxas', 'Esclarecimento de Dúvidas']\n"
     ]
    }
   ],
   "source": [
    "a=[]\n",
    "for i in lista_topicos_unicos:\n",
    "    if ',' in i:\n",
    "        test = i.split(',')\n",
    "        for num in range(0, len(test)):\n",
    "            a.append(test[num].lstrip(' '))\n",
    "    else: \n",
    "        a.append(i.lstrip(' '))\n",
    "print(len(a), a)"
   ]
  },
  {
   "cell_type": "code",
   "execution_count": 116,
   "metadata": {},
   "outputs": [
    {
     "name": "stdout",
     "output_type": "stream",
     "text": [
      "152 ['Inscrição', '', 'Quota', 'Acumulação de Cargos', 'Remuneração', 'Contribuição', 'Ensino Superior', 'Relação Contributiva', 'Entrega/Pagamento de Valores', 'relação contributiva', 'Serviço Militar', 'Ultramarina', 'Dívida', 'Banca', 'Dispensa do Pagamento', 'Prestações', 'Encargo da Aposentação', 'Restituição', 'Prescrição', 'Cessação de Funções', 'Direito de Inscrição', 'Acidentes', 'Tempo de Serviço', 'Tempo Parcial', 'Pré-reforma', 'Infração', 'Amnistia', 'Anulação', 'Revogação da Resolução', 'Direito de Aposentação', 'Aposentação Voluntária', 'Aposentação Obrigatória', 'Exame Médico', 'Penas', 'Aposentação Antecipada', 'Cálculo de Pensão', 'Sustentabilidade', 'Carreira Longa', 'Tempo de serviço', 'Tratamento mais favorável ', 'Tratamento mais favorável', 'Casos de Impedimento', 'Antecedência', 'Pedido', 'Demissão', 'Incapacidade', 'Limite de Idade', 'Infração ', 'Aposentação obrigatória', 'Situação Clínica', 'Limite de idade', 'Aposentação Compulsiva', 'Incapacidade.', 'Reforma Antecipada', 'Regime', 'Relevância', 'Direito à Pensão', 'Emolumentos.', 'Sucessão de Cargos', 'Organismos Extintos', 'Valor máximo da pensão', 'Cálculo de pensão', 'Alteração da Pensão', 'Atualização de Pensão', 'Autarquias Locais', 'Indemnizações', 'Quotas', 'Tempo de serviço.', 'Encargos da Aposentação', 'Pensão Unificada', 'Pagamento da Pensão', 'Impossibilidade de receber a pensão', 'Exame médico', 'Cálculo da Pensão', 'Óbito', 'Prova de Vida', 'Partilha de informação/Dados', 'Suplementos Legais', 'Herdeiros', 'Acumulação de Pensões', 'Arquivo', 'Herdeiro', 'Penhora', 'Suspensão da Pensão', 'Condenação Disciplinar', 'Condenação Penal.', 'Óbito do aposentado', 'Estorno', 'Estorno.', 'Direito à Aposentação', 'Direitos do Aposentado', 'Sustação.', 'Penas Disciplinares', 'Perda da Pensão.', 'Penas Disciplinares.', 'Penas Criminais', 'Incompatibilidades', 'Autorização do Exercício de Funções', 'Cumulação de pensão', 'Cumulação de pensões', 'cumulação de pensão', 'Cumulação de Pensão', 'Acumulação da Pensão', 'Contagem de tempo', 'Extinção da Pensão', 'Renúncia', 'Perda da nacionalidade', 'Exoneração', 'Sistema Previdencial', 'Processo de Aposentação', 'Prova do Tempo de Serviço', 'Documento Autêntico', 'Junta Médica', 'Informação Clínica', 'Conselho Médico', 'Junta de Recurso', 'Resolução', 'Sustação', 'Desligado do Serviço', 'Divulgação da Aposentação', 'Revisão da Resolução', 'Retificação da Resolução', 'Recurso Contencioso', 'Encarregados pela Resolução', 'Competência', 'Avocação', 'Notificação', 'Impugnação', 'Previdência Social', 'Reforma dos Militares', 'Polícia de Segurança Pública', 'Pensão de Reserva', 'Pensão de Reforma', 'Reserva', 'Reforma', 'Vigência.', 'Vigência', 'Prazos', 'Validade das Resoluções', 'validade das Resoluções', 'Validade da quota anterior', 'Abonos', 'Contribuição do Estado', 'Legislação Revogada', 'Preceitos Especiais', 'Disposições Especiais', 'Normas Especiais', 'Regimes Especiais', 'Atualização', 'Consolidação', 'Taxas', 'Esclarecimento de Dúvidas']\n"
     ]
    }
   ],
   "source": [
    "v = []\n",
    "\n",
    "for i in a:\n",
    "    if i not in v:\n",
    "        v.append(i)\n",
    "print(len(v), v)"
   ]
  },
  {
   "cell_type": "code",
   "execution_count": null,
   "metadata": {},
   "outputs": [],
   "source": []
  },
  {
   "cell_type": "code",
   "execution_count": null,
   "metadata": {},
   "outputs": [],
   "source": []
  }
 ],
 "metadata": {
  "kernelspec": {
   "display_name": "Python 3",
   "language": "python",
   "name": "python3"
  },
  "language_info": {
   "codemirror_mode": {
    "name": "ipython",
    "version": 3
   },
   "file_extension": ".py",
   "mimetype": "text/x-python",
   "name": "python",
   "nbconvert_exporter": "python",
   "pygments_lexer": "ipython3",
   "version": "3.8.3"
  }
 },
 "nbformat": 4,
 "nbformat_minor": 4
}
